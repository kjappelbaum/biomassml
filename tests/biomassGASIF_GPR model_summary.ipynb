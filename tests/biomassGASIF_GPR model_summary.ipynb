{
 "cells": [
  {
   "cell_type": "code",
   "execution_count": 1,
   "id": "6aa041ff",
   "metadata": {},
   "outputs": [],
   "source": [
    "import os\n",
    "import pandas as pd\n",
    "\n",
    "from sklearn.metrics import r2_score\n",
    "\n",
    "import joblib\n",
    "import matplotlib.pyplot as plt\n",
    "%matplotlib inline"
   ]
  },
  {
   "cell_type": "code",
   "execution_count": 2,
   "id": "d80c19d4",
   "metadata": {},
   "outputs": [],
   "source": [
    "import biomassml\n",
    "\n",
    "from biomassml.build_model import *\n",
    "from biomassml.coregionalized_regressor import *\n",
    "from biomassml.feature_importance import *\n",
    "from biomassml.metrics import *\n",
    "from biomassml.plotting import *\n",
    "from biomassml.predict import *\n",
    "from biomassml.utils import *\n",
    "from biomassml.predict_outputs import *"
   ]
  },
  {
   "cell_type": "code",
   "execution_count": 3,
   "id": "88392eba",
   "metadata": {},
   "outputs": [],
   "source": [
    "DATA_DIR = '/mnt/c/Users/44907688G/Documents/home_vicky/'\n",
    "\n",
    "def load_data_file(data_dir=DATA_DIR, csv_file=''):\n",
    "    DATA_FILE = os.path.join(data_dir, csv_file)\n",
    "    return pd.read_csv(DATA_FILE)"
   ]
  },
  {
   "cell_type": "code",
   "execution_count": 4,
   "id": "178a76fe",
   "metadata": {},
   "outputs": [],
   "source": [
    "output_names = ['CO (vol%)', r'H$_2$ (vol%)', 'COMBgas (vol%)', 'Eyield (MJ/kg biom)', r'CH$_4$ (vol%)',\n",
    "                'SYNGAS (vol%)', r'H$_2$/CO', r'HHVgas (MJ/m$^3$)', r'GASyield (m$^3$/kg biom)', 'CGE (%)']"
   ]
  },
  {
   "cell_type": "code",
   "execution_count": 5,
   "id": "11bc058d",
   "metadata": {},
   "outputs": [],
   "source": [
    "def create_pdf_test(prediction_collection_test, outputs, \n",
    "                    file_true='test_true_X.csv', file_predicted='test_predicted_X.csv', file_std='test_std_X.csv'):\n",
    "    df_test_true = pd.DataFrame(np.concatenate([pred[0]['true'] for pred in prediction_collection_test]))\n",
    "    for n in range(len(outputs)-1):\n",
    "        df_test_true[n+1] = pd.DataFrame(np.concatenate([pred[n+1]['true'] for pred in prediction_collection_test]))\n",
    "    df_test_true.columns = outputs\n",
    "    df_test_predicted = pd.DataFrame(np.concatenate([pred[0]['mu'] for pred in prediction_collection_test]))\n",
    "    for n in range(len(outputs)-1):\n",
    "        df_test_predicted[n+1] = pd.DataFrame(np.concatenate([pred[n+1]['mu'] for pred in prediction_collection_test]))\n",
    "    df_test_predicted.columns = outputs\n",
    "    df_test_std = pd.DataFrame(np.concatenate([pred[0]['std'] for pred in prediction_collection_test]))\n",
    "    for n in range(len(outputs)-1):\n",
    "        df_test_std[n+1] = pd.DataFrame(np.concatenate([pred[n+1]['std'] for pred in prediction_collection_test]))\n",
    "    df_test_std.columns = outputs\n",
    "    \n",
    "    df_test_true.to_csv(file_true, index=False)\n",
    "    df_test_predicted.to_csv(file_predicted, index=False)\n",
    "    df_test_std.to_csv(file_std, index=False)"
   ]
  },
  {
   "cell_type": "code",
   "execution_count": 6,
   "id": "96f1cc31",
   "metadata": {},
   "outputs": [],
   "source": [
    "def parity_plots_train_test(prediction_collection_train, prediction_collection_test, n_output=0):\n",
    "    fig, ax = plt.subplots(1, 2, figsize=(5, 4.5))\n",
    "    \n",
    "    y_true = np.concatenate([pred[n_output][\"true\"] for pred in prediction_collection_train])\n",
    "    y_pred_mu = np.concatenate([pred[n_output][\"mu\"] for pred in prediction_collection_train])\n",
    "    y_pred_std = np.concatenate([pred[n_output][\"std\"] for pred in prediction_collection_train])\n",
    "    make_parity_plot(y_true, y_pred_mu.flatten(), ax[0], y_pred_std.flatten(), ls='none')\n",
    "    ax[0].set_title(output_names[n_output]+'_train', fontsize=14)\n",
    "    \n",
    "    y_true = np.concatenate([pred[n_output][\"true\"] for pred in prediction_collection_test])\n",
    "    y_pred_mu = np.concatenate([pred[n_output][\"mu\"] for pred in prediction_collection_test])\n",
    "    y_pred_std = np.concatenate([pred[n_output][\"std\"] for pred in prediction_collection_test])\n",
    "    make_parity_plot(y_true, y_pred_mu.flatten(), ax[1], y_pred_std.flatten(), ls='none')\n",
    "    ax[1].set_title(output_names[n_output]+'_test', fontsize=14)\n",
    "    \n",
    "    fig.tight_layout()"
   ]
  },
  {
   "cell_type": "code",
   "execution_count": 7,
   "id": "d17b6f32",
   "metadata": {},
   "outputs": [],
   "source": [
    "def parity_plots_test(prediction_collection_test, outputs, n1=0, n2=1, n3=2, n4=3):\n",
    "    fig, ax = plt.subplots(1, 4, figsize=(10, 5))\n",
    "    \n",
    "    y_true = np.concatenate([pred[n1][\"true\"] for pred in prediction_collection_test])\n",
    "    y_pred_mu = np.concatenate([pred[n1][\"mu\"] for pred in prediction_collection_test])\n",
    "    y_pred_std = np.concatenate([pred[n1][\"std\"] for pred in prediction_collection_test])\n",
    "    make_parity_plot(y_true, y_pred_mu.flatten(), ax[0], y_pred_std.flatten(), ls='none', linewidth=1, color='#337eb8')\n",
    "    ax[0].set_title(output_names[n1], fontsize=14)\n",
    "    ax[0].set_xlabel('true', fontsize=11.5)\n",
    "    ax[0].set_ylabel('predicted', fontsize=11.5)\n",
    "    ax[0].tick_params(axis='both', bottom=False, left=False)\n",
    "    R2 = test_metrics[n1]['r2']\n",
    "    ax[0].annotate((f'R2: {R2:.4f}'), xy=(1, 0), xycoords='axes fraction', fontsize = 14,\n",
    "                   xytext=(-5, 5), textcoords='offset points', ha='right', va='bottom')\n",
    "    \n",
    "    y_true = np.concatenate([pred[n2][\"true\"] for pred in prediction_collection_test])\n",
    "    y_pred_mu = np.concatenate([pred[n2][\"mu\"] for pred in prediction_collection_test])\n",
    "    y_pred_std = np.concatenate([pred[n2][\"std\"] for pred in prediction_collection_test])\n",
    "    make_parity_plot(y_true, y_pred_mu.flatten(), ax[1], y_pred_std.flatten(), ls='none', linewidth=1, color='#337eb8')\n",
    "    ax[1].set_title(output_names[n2], fontsize=14)\n",
    "    ax[1].set_xlabel('true', fontsize=11.5)\n",
    "    ax[1].set_ylabel(None)\n",
    "    ax[1].tick_params(axis='both', bottom=False, left=False)\n",
    "    R2 = test_metrics[n2]['r2']\n",
    "    ax[1].annotate((f'R2: {R2:.4f}'), xy=(1, 0), xycoords='axes fraction', fontsize = 14,\n",
    "                   xytext=(-5, 5), textcoords='offset points', ha='right', va='bottom')\n",
    "    \n",
    "    y_true = np.concatenate([pred[n3][\"true\"] for pred in prediction_collection_test])\n",
    "    y_pred_mu = np.concatenate([pred[n3][\"mu\"] for pred in prediction_collection_test])\n",
    "    y_pred_std = np.concatenate([pred[n3][\"std\"] for pred in prediction_collection_test])\n",
    "    make_parity_plot(y_true, y_pred_mu.flatten(), ax[2], y_pred_std.flatten(), ls='none', linewidth=1, color='#337eb8')\n",
    "    ax[2].set_title(output_names[n3], fontsize=14)\n",
    "    ax[2].set_xlabel('true', fontsize=11.5)\n",
    "    ax[2].set_ylabel(None)\n",
    "    ax[2].tick_params(axis='both', bottom=False, left=False)\n",
    "    R2 = test_metrics[n3]['r2']\n",
    "    ax[2].annotate((f'R2: {R2:.4f}'), xy=(1, 0), xycoords='axes fraction', fontsize = 14,\n",
    "                   xytext=(-5, 5), textcoords='offset points', ha='right', va='bottom')\n",
    "    \n",
    "    y_true = np.concatenate([pred[n4][\"true\"] for pred in prediction_collection_test])\n",
    "    y_pred_mu = np.concatenate([pred[n4][\"mu\"] for pred in prediction_collection_test])\n",
    "    y_pred_std = np.concatenate([pred[n4][\"std\"] for pred in prediction_collection_test])\n",
    "    make_parity_plot(y_true, y_pred_mu.flatten(), ax[3], y_pred_std.flatten(), ls='none', linewidth=1, color='#337eb8')\n",
    "    ax[3].set_title(output_names[n4], fontsize=14)\n",
    "    ax[3].set_xlabel('true', fontsize=11.5)\n",
    "    ax[3].set_ylabel(None)\n",
    "    ax[3].tick_params(axis='both', bottom=False, left=False)\n",
    "    R2 = test_metrics[n4]['r2']\n",
    "    ax[3].annotate((f'R2: {R2:.4f}'), xy=(1, 0), xycoords='axes fraction', fontsize = 14,\n",
    "                   xytext=(-5, 5), textcoords='offset points', ha='right', va='bottom')"
   ]
  },
  {
   "cell_type": "code",
   "execution_count": 7,
   "id": "6ac71b72",
   "metadata": {},
   "outputs": [],
   "source": [
    "def get_scalers(X, y):\n",
    "    x_scaler = StandardScaler()\n",
    "    y_scaler = StandardScaler()\n",
    "    X_scaled = x_scaler.fit_transform(X)\n",
    "    y_scaled = y_scaler.fit_transform(y)\n",
    "    return x_scaler, y_scaler"
   ]
  },
  {
   "cell_type": "code",
   "execution_count": 8,
   "id": "aa9729a1",
   "metadata": {},
   "outputs": [],
   "source": [
    "def scale_X(X, x_scaler):\n",
    "    X_scaled = x_scaler.transform(X)\n",
    "    return X_scaled"
   ]
  },
  {
   "cell_type": "markdown",
   "id": "8fb591a7",
   "metadata": {},
   "source": [
    "### multioutput GPR model - LOOCV\n",
    "### 12 features -  4 outputs (volCO, volH2, volCOMB, Edensity)"
   ]
  },
  {
   "cell_type": "code",
   "execution_count": 8,
   "id": "7227436f",
   "metadata": {},
   "outputs": [],
   "source": [
    "dfGASIF_dataset = load_data_file(DATA_DIR, 'data_GASIF_biomass.csv')"
   ]
  },
  {
   "cell_type": "code",
   "execution_count": 9,
   "id": "e06b3e44",
   "metadata": {
    "scrolled": true
   },
   "outputs": [
    {
     "name": "stdout",
     "output_type": "stream",
     "text": [
      "<class 'pandas.core.frame.DataFrame'>\n",
      "RangeIndex: 30 entries, 0 to 29\n",
      "Data columns (total 61 columns):\n",
      " #   Column                 Non-Null Count  Dtype  \n",
      "---  ------                 --------------  -----  \n",
      " 0   BIOMASS                30 non-null     object \n",
      " 1   BIOMASS_SR             30 non-null     object \n",
      " 2   SA                     30 non-null     float64\n",
      " 3   SBR                    30 non-null     float64\n",
      " 4   HHVbiom (MJ/kg)        30 non-null     float64\n",
      " 5   T (K)                  30 non-null     int64  \n",
      " 6   SR                     30 non-null     float64\n",
      " 7   He_density (g/cm3)     30 non-null     float64\n",
      " 8   C (%)                  30 non-null     float64\n",
      " 9   N (%)                  30 non-null     float64\n",
      " 10  H (%)                  30 non-null     float64\n",
      " 11  S (%)                  30 non-null     float64\n",
      " 12  O (%)                  30 non-null     float64\n",
      " 13  ash (%)                30 non-null     float64\n",
      " 14  VM (%)                 30 non-null     float64\n",
      " 15  FC (%)                 30 non-null     float64\n",
      " 16  MC (%)                 30 non-null     float64\n",
      " 17  H/O (molar)            30 non-null     float64\n",
      " 18  O/C (molar)            30 non-null     float64\n",
      " 19  H/C (molar)            30 non-null     float64\n",
      " 20  (O+N)/C (molar)        30 non-null     float64\n",
      " 21  R_900                  26 non-null     float64\n",
      " 22  Bulk_density (kg/m3)   30 non-null     float64\n",
      " 23  volCO2 (%)             30 non-null     float64\n",
      " 24  volCO (%)              30 non-null     float64\n",
      " 25  volCH4 (%)             30 non-null     float64\n",
      " 26  volH2 (%)              30 non-null     float64\n",
      " 27  volCOMB (%)            30 non-null     float64\n",
      " 28  volSYNG (%)            30 non-null     float64\n",
      " 29  H2_CO                  30 non-null     float64\n",
      " 30  molCO2/mol biom        30 non-null     float64\n",
      " 31  molCO/mol biom         30 non-null     float64\n",
      " 32  molCH4/mol biom        30 non-null     float64\n",
      " 33  molH2/mol biom         30 non-null     float64\n",
      " 34  molSYNG/mol biom       30 non-null     float64\n",
      " 35  molCOMB/mol biom       30 non-null     float64\n",
      " 36  HHV (MJ/m3)            30 non-null     float64\n",
      " 37  CGE (%)                30 non-null     float64\n",
      " 38  Edensity (MJ/kg biom)  30 non-null     float64\n",
      " 39  GAS (m3/kg biom)       30 non-null     float64\n",
      " 40  Na2O (%)               30 non-null     float64\n",
      " 41  MgO (%)                30 non-null     float64\n",
      " 42  Al2O3 (%)              30 non-null     float64\n",
      " 43  SiO2 (%)               30 non-null     float64\n",
      " 44  P2O5 (%)               30 non-null     float64\n",
      " 45  K2O (%)                30 non-null     float64\n",
      " 46  CaO (%)                30 non-null     float64\n",
      " 47  TiO2 (%)               30 non-null     float64\n",
      " 48  Fe2O3 (%)              30 non-null     float64\n",
      " 49  SO3 (%)                30 non-null     float64\n",
      " 50  MnO (%)                30 non-null     object \n",
      " 51  Si+P                   30 non-null     float64\n",
      " 52  Si+P+Al                30 non-null     float64\n",
      " 53  Si+P+Al+Ca             30 non-null     float64\n",
      " 54  Si+Ca                  30 non-null     float64\n",
      " 55  K/Si+P                 30 non-null     float64\n",
      " 56  K/P                    30 non-null     float64\n",
      " 57  K/Si+P+Ca              30 non-null     float64\n",
      " 58  Na+Mg+K/Al+Si+P+Ca     30 non-null     float64\n",
      " 59  Mg+Na+K/Si+P+Ca        30 non-null     float64\n",
      " 60  K+Na+Mg+Ca/Si+P+Al     30 non-null     float64\n",
      "dtypes: float64(57), int64(1), object(3)\n",
      "memory usage: 14.4+ KB\n"
     ]
    }
   ],
   "source": [
    "dfGASIF_dataset.info()"
   ]
  },
  {
   "cell_type": "code",
   "execution_count": 10,
   "id": "f15bd3d7",
   "metadata": {},
   "outputs": [
    {
     "data": {
      "text/html": [
       "<div>\n",
       "<style scoped>\n",
       "    .dataframe tbody tr th:only-of-type {\n",
       "        vertical-align: middle;\n",
       "    }\n",
       "\n",
       "    .dataframe tbody tr th {\n",
       "        vertical-align: top;\n",
       "    }\n",
       "\n",
       "    .dataframe thead th {\n",
       "        text-align: right;\n",
       "    }\n",
       "</style>\n",
       "<table border=\"1\" class=\"dataframe\">\n",
       "  <thead>\n",
       "    <tr style=\"text-align: right;\">\n",
       "      <th></th>\n",
       "      <th>SA</th>\n",
       "      <th>SBR</th>\n",
       "      <th>HHVbiom (MJ/kg)</th>\n",
       "      <th>T (K)</th>\n",
       "      <th>SR</th>\n",
       "      <th>C (%)</th>\n",
       "      <th>H (%)</th>\n",
       "      <th>O (%)</th>\n",
       "      <th>ash (%)</th>\n",
       "      <th>VM (%)</th>\n",
       "      <th>FC (%)</th>\n",
       "      <th>MC (%)</th>\n",
       "    </tr>\n",
       "  </thead>\n",
       "  <tbody>\n",
       "    <tr>\n",
       "      <th>0</th>\n",
       "      <td>2.33</td>\n",
       "      <td>1.1</td>\n",
       "      <td>19.5649</td>\n",
       "      <td>1173</td>\n",
       "      <td>0.13</td>\n",
       "      <td>49.44</td>\n",
       "      <td>5.85</td>\n",
       "      <td>42.9</td>\n",
       "      <td>1.45</td>\n",
       "      <td>78.93</td>\n",
       "      <td>19.62</td>\n",
       "      <td>6.52</td>\n",
       "    </tr>\n",
       "  </tbody>\n",
       "</table>\n",
       "</div>"
      ],
      "text/plain": [
       "     SA  SBR  HHVbiom (MJ/kg)  T (K)    SR  C (%)  H (%)  O (%)  ash (%)  \\\n",
       "0  2.33  1.1          19.5649   1173  0.13  49.44   5.85   42.9     1.45   \n",
       "\n",
       "   VM (%)  FC (%)  MC (%)  \n",
       "0   78.93   19.62    6.52  "
      ]
     },
     "execution_count": 10,
     "metadata": {},
     "output_type": "execute_result"
    }
   ],
   "source": [
    "FEATURES_GASIF_12 = pd.concat([dfGASIF_dataset.iloc[:,2:7], dfGASIF_dataset.iloc[:,[8,10,12,13,14,15,16]]], axis=1)\n",
    "FEATURES_GASIF_12.head(1)"
   ]
  },
  {
   "cell_type": "code",
   "execution_count": 11,
   "id": "7a61d0cb",
   "metadata": {},
   "outputs": [
    {
     "data": {
      "text/html": [
       "<div>\n",
       "<style scoped>\n",
       "    .dataframe tbody tr th:only-of-type {\n",
       "        vertical-align: middle;\n",
       "    }\n",
       "\n",
       "    .dataframe tbody tr th {\n",
       "        vertical-align: top;\n",
       "    }\n",
       "\n",
       "    .dataframe thead th {\n",
       "        text-align: right;\n",
       "    }\n",
       "</style>\n",
       "<table border=\"1\" class=\"dataframe\">\n",
       "  <thead>\n",
       "    <tr style=\"text-align: right;\">\n",
       "      <th></th>\n",
       "      <th>volCO (%)</th>\n",
       "      <th>volH2 (%)</th>\n",
       "      <th>volCOMB (%)</th>\n",
       "      <th>Edensity (MJ/kg biom)</th>\n",
       "    </tr>\n",
       "  </thead>\n",
       "  <tbody>\n",
       "    <tr>\n",
       "      <th>0</th>\n",
       "      <td>23.6541</td>\n",
       "      <td>36.4296</td>\n",
       "      <td>67.4756</td>\n",
       "      <td>7.8526</td>\n",
       "    </tr>\n",
       "  </tbody>\n",
       "</table>\n",
       "</div>"
      ],
      "text/plain": [
       "   volCO (%)  volH2 (%)  volCOMB (%)  Edensity (MJ/kg biom)\n",
       "0    23.6541    36.4296      67.4756                 7.8526"
      ]
     },
     "execution_count": 11,
     "metadata": {},
     "output_type": "execute_result"
    }
   ],
   "source": [
    "TARGETS_GASIF_4 = dfGASIF_dataset.iloc[:,[24,26,27,38]]\n",
    "TARGETS_GASIF_4.head(1)"
   ]
  },
  {
   "cell_type": "code",
   "execution_count": 12,
   "id": "4f6b1071",
   "metadata": {},
   "outputs": [],
   "source": [
    "features = list(FEATURES_GASIF_12.columns)\n",
    "outputs = list(TARGETS_GASIF_4.columns)\n",
    "X = FEATURES_GASIF_12\n",
    "y = TARGETS_GASIF_4"
   ]
  },
  {
   "cell_type": "code",
   "execution_count": 13,
   "id": "c19fba0d",
   "metadata": {},
   "outputs": [],
   "source": [
    "kernel_1 = get_rbf_kernel(len(features), ARD=True)\n",
    "kernel_2 = get_matern_32_kernel(len(features), ARD=True)\n",
    "kernel_3 = get_matern_52_kernel(len(features), ARD=True)\n",
    "kernel_4 = get_ratquad_kernel(len(features), ARD=True)\n",
    "kernel_5 = get_linear_kernel(len(features), ARD=True)\n",
    "kernel_6 = get_rbf_kernel(len(features), ARD=True) + get_linear_kernel(len(features), ARD=True)\n",
    "kernel_6exp = get_rbf_kernel(len(features), ARD=True) + get_linear_kernel(\n",
    "    len(features), ARD=True) + get_exponential_kernel(len(features), ARD=True)\n",
    "kernel_7 = get_matern_32_kernel(len(features), ARD=True) + get_linear_kernel(len(features), ARD=True)\n",
    "kernel_8 = get_matern_52_kernel(len(features), ARD=True) + get_linear_kernel(len(features), ARD=True)\n",
    "kernel_9 = get_ratquad_kernel(len(features), ARD=True) + get_linear_kernel(len(features), ARD=True)\n",
    "kernel_10 = get_rbf_kernel(len(features), ARD=True) * get_linear_kernel(len(features), ARD=True)\n",
    "kernel_11 = get_matern_32_kernel(len(features), ARD=True) * get_linear_kernel(len(features), ARD=True)\n",
    "kernel_12 = get_matern_52_kernel(len(features), ARD=True) * get_linear_kernel(len(features), ARD=True)\n",
    "kernel_13 = get_ratquad_kernel(len(features), ARD=True) * get_linear_kernel(len(features), ARD=True)"
   ]
  },
  {
   "cell_type": "code",
   "execution_count": 14,
   "id": "ee02f366",
   "metadata": {},
   "outputs": [],
   "source": [
    "kernel_14 = get_exponential_kernel(len(features), ARD=True)\n",
    "kernel_15 = get_expquad_kernel(len(features), ARD=True)\n",
    "kernel_16 = get_exponential_kernel(len(features), ARD=True) + get_linear_kernel(len(features), ARD=True)\n",
    "kernel_17 = get_expquad_kernel(len(features), ARD=True) + get_linear_kernel(len(features), ARD=True)\n",
    "kernel_18 = get_exponential_kernel(len(features), ARD=True) * get_linear_kernel(len(features), ARD=True)\n",
    "kernel_19 = get_expquad_kernel(len(features), ARD=True) * get_linear_kernel(len(features), ARD=True)\n",
    "kernel_20 = get_exponential_kernel(len(features), ARD=True) + get_rbf_kernel(len(features), ARD=True)\n",
    "kernel_21 = get_expquad_kernel(len(features), ARD=True) + get_rbf_kernel(len(features), ARD=True)\n",
    "kernel_22 = get_exponential_kernel(len(features), ARD=True) * get_rbf_kernel(len(features), ARD=True)\n",
    "kernel_23 = get_expquad_kernel(len(features), ARD=True) * get_rbf_kernel(len(features), ARD=True)"
   ]
  },
  {
   "cell_type": "markdown",
   "id": "9704b75a",
   "metadata": {},
   "source": [
    "### training model"
   ]
  },
  {
   "cell_type": "markdown",
   "id": "a3667dd8",
   "metadata": {},
   "source": [
    "#### kernel_6 = get_rbf_kernel(len(features), ARD=True) + get_linear_kernel(len(features), ARD=True)"
   ]
  },
  {
   "cell_type": "code",
   "execution_count": 18,
   "id": "4553cb7c",
   "metadata": {
    "scrolled": true
   },
   "outputs": [
    {
     "name": "stderr",
     "output_type": "stream",
     "text": [
      "2022-05-04 15:20:01.687 | INFO     | biomassml.metrics:loocv_train_test:86 - LOOCV iteration 0\n",
      "overflow encountered in square\n",
      "invalid value encountered in add\n",
      "invalid value encountered in multiply\n",
      "overflow encountered in true_divide\n",
      "2022-05-04 15:20:32.860 | INFO     | biomassml.metrics:loocv_train_test:86 - LOOCV iteration 1\n",
      "overflow encountered in expm1\n",
      "2022-05-04 15:21:04.131 | INFO     | biomassml.metrics:loocv_train_test:86 - LOOCV iteration 2\n",
      "2022-05-04 15:21:43.348 | INFO     | biomassml.metrics:loocv_train_test:86 - LOOCV iteration 3\n",
      "2022-05-04 15:22:17.107 | INFO     | biomassml.metrics:loocv_train_test:86 - LOOCV iteration 4\n",
      "2022-05-04 15:22:52.352 | INFO     | biomassml.metrics:loocv_train_test:86 - LOOCV iteration 5\n",
      "2022-05-04 15:23:20.559 | INFO     | biomassml.metrics:loocv_train_test:86 - LOOCV iteration 6\n",
      "2022-05-04 15:24:04.348 | INFO     | biomassml.metrics:loocv_train_test:86 - LOOCV iteration 7\n",
      "2022-05-04 15:24:46.257 | INFO     | biomassml.metrics:loocv_train_test:86 - LOOCV iteration 8\n",
      "overflow encountered in square\n",
      "invalid value encountered in add\n",
      "invalid value encountered in multiply\n",
      "overflow encountered in true_divide\n",
      "2022-05-04 15:25:21.181 | INFO     | biomassml.metrics:loocv_train_test:86 - LOOCV iteration 9\n",
      "2022-05-04 15:25:56.893 | INFO     | biomassml.metrics:loocv_train_test:86 - LOOCV iteration 10\n",
      "overflow encountered in expm1\n",
      "2022-05-04 15:26:29.938 | INFO     | biomassml.metrics:loocv_train_test:86 - LOOCV iteration 11\n",
      "overflow encountered in expm1\n",
      "2022-05-04 15:27:35.467 | INFO     | biomassml.metrics:loocv_train_test:86 - LOOCV iteration 12\n",
      "overflow encountered in expm1\n",
      "2022-05-04 15:28:30.989 | INFO     | biomassml.metrics:loocv_train_test:86 - LOOCV iteration 13\n",
      "overflow encountered in square\n",
      "invalid value encountered in add\n",
      "invalid value encountered in multiply\n",
      "overflow encountered in true_divide\n",
      "2022-05-04 15:29:13.807 | INFO     | biomassml.metrics:loocv_train_test:86 - LOOCV iteration 14\n",
      "invalid value encountered in true_divide\n",
      "2022-05-04 15:29:47.245 | INFO     | biomassml.metrics:loocv_train_test:86 - LOOCV iteration 15\n",
      "2022-05-04 15:30:22.634 | INFO     | biomassml.metrics:loocv_train_test:86 - LOOCV iteration 16\n",
      "2022-05-04 15:31:05.123 | INFO     | biomassml.metrics:loocv_train_test:86 - LOOCV iteration 17\n",
      "2022-05-04 15:31:37.247 | INFO     | biomassml.metrics:loocv_train_test:86 - LOOCV iteration 18\n",
      "2022-05-04 15:32:17.444 | INFO     | biomassml.metrics:loocv_train_test:86 - LOOCV iteration 19\n",
      "invalid value encountered in true_divide\n",
      "2022-05-04 15:32:50.676 | INFO     | biomassml.metrics:loocv_train_test:86 - LOOCV iteration 20\n",
      "overflow encountered in expm1\n",
      "overflow encountered in square\n",
      "invalid value encountered in add\n",
      "invalid value encountered in multiply\n",
      "overflow encountered in true_divide\n",
      "2022-05-04 15:33:25.570 | INFO     | biomassml.metrics:loocv_train_test:86 - LOOCV iteration 21\n",
      "overflow encountered in true_divide\n",
      "overflow encountered in square\n",
      "invalid value encountered in add\n",
      "invalid value encountered in multiply\n",
      "2022-05-04 15:33:58.003 | INFO     | biomassml.metrics:loocv_train_test:86 - LOOCV iteration 22\n",
      "2022-05-04 15:34:33.340 | INFO     | biomassml.metrics:loocv_train_test:86 - LOOCV iteration 23\n",
      "invalid value encountered in true_divide\n",
      "2022-05-04 15:35:17.826 | INFO     | biomassml.metrics:loocv_train_test:86 - LOOCV iteration 24\n",
      "2022-05-04 15:35:57.024 | INFO     | biomassml.metrics:loocv_train_test:86 - LOOCV iteration 25\n",
      "2022-05-04 15:36:28.479 | INFO     | biomassml.metrics:loocv_train_test:86 - LOOCV iteration 26\n",
      "2022-05-04 15:37:04.346 | INFO     | biomassml.metrics:loocv_train_test:86 - LOOCV iteration 27\n",
      "2022-05-04 15:37:45.866 | INFO     | biomassml.metrics:loocv_train_test:86 - LOOCV iteration 28\n",
      "2022-05-04 15:38:22.480 | INFO     | biomassml.metrics:loocv_train_test:86 - LOOCV iteration 29\n"
     ]
    }
   ],
   "source": [
    "model_12in4outEdens_kernel6 = build_coregionalized_model(X.values, y.values, kernel=kernel_6)\n",
    "\n",
    "test_metrics, prediction_collection_train, prediction_collection_test = loocv_train_test(\n",
    "    model_12in4outEdens_kernel6, X.values, y.values, coregionalized=True, n_restarts=20)"
   ]
  },
  {
   "cell_type": "code",
   "execution_count": 19,
   "id": "7406e015",
   "metadata": {
    "scrolled": true
   },
   "outputs": [
    {
     "data": {
      "text/html": [
       "<style type=\"text/css\">\n",
       ".pd{\n",
       "    font-family: \"Courier New\", Courier, monospace !important;\n",
       "    width: 100%;\n",
       "    padding: 3px;\n",
       "}\n",
       "</style>\n",
       "\n",
       "<p class=pd>\n",
       "<b>Model</b>: gp<br>\n",
       "<b>Objective</b>: 36.44024874968551<br>\n",
       "<b>Number of Parameters</b>: 37<br>\n",
       "<b>Number of Optimization Parameters</b>: 24<br>\n",
       "<b>Updates</b>: True<br>\n",
       "</p>\n",
       "<style type=\"text/css\">\n",
       ".tg  {font-family:\"Courier New\", Courier, monospace !important;padding:2px 3px;word-break:normal;border-collapse:collapse;border-spacing:0;border-color:#DCDCDC;margin:0px auto;width:100%;}\n",
       ".tg td{font-family:\"Courier New\", Courier, monospace !important;font-weight:bold;color:#444;background-color:#F7FDFA;border-style:solid;border-width:1px;overflow:hidden;word-break:normal;border-color:#DCDCDC;}\n",
       ".tg th{font-family:\"Courier New\", Courier, monospace !important;font-weight:normal;color:#fff;background-color:#26ADE4;border-style:solid;border-width:1px;overflow:hidden;word-break:normal;border-color:#DCDCDC;}\n",
       ".tg .tg-left{font-family:\"Courier New\", Courier, monospace !important;font-weight:normal;text-align:left;}\n",
       ".tg .tg-center{font-family:\"Courier New\", Courier, monospace !important;font-weight:normal;text-align:center;}\n",
       ".tg .tg-right{font-family:\"Courier New\", Courier, monospace !important;font-weight:normal;text-align:right;}\n",
       "</style>\n",
       "<table class=\"tg\"><tr><th><b>  gp.                                  </b></th><th><b>                 value</b></th><th><b>constraints</b></th><th><b>priors</b></th></tr>\n",
       "<tr><td class=tg-left>  ICM.sum.rbf.variance                 </td><td class=tg-right>                   1.0</td><td class=tg-center> +ve fixed </td><td class=tg-center>      </td></tr>\n",
       "<tr><td class=tg-left>  ICM.sum.rbf.lengthscale              </td><td class=tg-right>                 (12,)</td><td class=tg-center>    +ve    </td><td class=tg-center>      </td></tr>\n",
       "<tr><td class=tg-left>  ICM.sum.linear.variances             </td><td class=tg-right>                 (12,)</td><td class=tg-center> +ve fixed </td><td class=tg-center>      </td></tr>\n",
       "<tr><td class=tg-left>  ICM.B.W                              </td><td class=tg-right>                (4, 1)</td><td class=tg-center>           </td><td class=tg-center>      </td></tr>\n",
       "<tr><td class=tg-left>  ICM.B.kappa                          </td><td class=tg-right>                  (4,)</td><td class=tg-center>    +ve    </td><td class=tg-center>      </td></tr>\n",
       "<tr><td class=tg-left>  mixed_noise.Gaussian_noise_0.variance</td><td class=tg-right>2.7727121549157147e-16</td><td class=tg-center>    +ve    </td><td class=tg-center>      </td></tr>\n",
       "<tr><td class=tg-left>  mixed_noise.Gaussian_noise_1.variance</td><td class=tg-right>1.7118264462526026e-21</td><td class=tg-center>    +ve    </td><td class=tg-center>      </td></tr>\n",
       "<tr><td class=tg-left>  mixed_noise.Gaussian_noise_2.variance</td><td class=tg-right> 0.0016748306639001352</td><td class=tg-center>    +ve    </td><td class=tg-center>      </td></tr>\n",
       "<tr><td class=tg-left>  mixed_noise.Gaussian_noise_3.variance</td><td class=tg-right>   0.04090325421308968</td><td class=tg-center>    +ve    </td><td class=tg-center>      </td></tr>\n",
       "</table>"
      ],
      "text/plain": [
       "<biomassml.coregionalized_regressor.GPCoregionalizedRegression at 0x7fa64e23dc70>"
      ]
     },
     "execution_count": 19,
     "metadata": {},
     "output_type": "execute_result"
    }
   ],
   "source": [
    "joblib.dump(model_12in4outEdens_kernel6, 'model_12in4outEdens_kernel6')\n",
    "model_12in4outEdens_kernel6"
   ]
  },
  {
   "cell_type": "code",
   "execution_count": 20,
   "id": "d1ee9dfa",
   "metadata": {},
   "outputs": [],
   "source": [
    "create_pdf_test(prediction_collection_test, outputs,\n",
    "                file_true='test_true_kernel6.csv', \n",
    "                file_predicted='test_predicted_kernel6.csv', \n",
    "                file_std='test_std_kernel6.csv')"
   ]
  },
  {
   "cell_type": "code",
   "execution_count": 21,
   "id": "8dd5d375",
   "metadata": {
    "scrolled": true
   },
   "outputs": [
    {
     "data": {
      "text/plain": [
       "{0: {'nll': 0.2659576779279688,\n",
       "  'picp': 1.0,\n",
       "  'mpiw': 0.16861023257526683,\n",
       "  'mse': 0.04664134270290646,\n",
       "  'rmse': 0.21596606840637364,\n",
       "  'r2': 0.958907062868812,\n",
       "  'mae': 0.17517943224548055,\n",
       "  'max_error': 0.45841192262835806,\n",
       "  'mape': 0.2506138688997368},\n",
       " 1: {'nll': 2.079275121052249,\n",
       "  'picp': 1.0,\n",
       "  'mpiw': 0.23982338711001755,\n",
       "  'mse': 0.11786723139701932,\n",
       "  'rmse': 0.34331797418285476,\n",
       "  'r2': 0.9016066654447678,\n",
       "  'mae': 0.25015611974977053,\n",
       "  'max_error': 0.703651676966691,\n",
       "  'mape': 2.684379742044794},\n",
       " 2: {'nll': 1.2661602199771886,\n",
       "  'picp': 1.0,\n",
       "  'mpiw': 0.23105402964035496,\n",
       "  'mse': 0.08443143512207804,\n",
       "  'rmse': 0.2905708779662512,\n",
       "  'r2': 0.9245813299257378,\n",
       "  'mae': 0.23569405258228057,\n",
       "  'max_error': 0.6387127839137632,\n",
       "  'mape': 0.5124271748913115},\n",
       " 3: {'nll': 0.714140135099409,\n",
       "  'picp': 1.0,\n",
       "  'mpiw': 0.36500895903523917,\n",
       "  'mse': 0.18712494646061134,\n",
       "  'rmse': 0.4325794105833186,\n",
       "  'r2': 0.8293683700625815,\n",
       "  'mae': 0.37297440076983845,\n",
       "  'max_error': 0.8173943512598113,\n",
       "  'mape': 1.7659557063196978}}"
      ]
     },
     "execution_count": 21,
     "metadata": {},
     "output_type": "execute_result"
    }
   ],
   "source": [
    "test_metrics"
   ]
  },
  {
   "cell_type": "code",
   "execution_count": 33,
   "id": "5b392687",
   "metadata": {
    "scrolled": true
   },
   "outputs": [
    {
     "data": {
      "image/png": "[encoded data removed]",
      "text/plain": [
       "<Figure size 360x324 with 2 Axes>"
      ]
     },
     "metadata": {
      "needs_background": "light"
     },
     "output_type": "display_data"
    },
    {
     "data": {
      "image/png": "[encoded data removed]",
      "text/plain": [
       "<Figure size 360x324 with 2 Axes>"
      ]
     },
     "metadata": {
      "needs_background": "light"
     },
     "output_type": "display_data"
    },
    {
     "data": {
      "image/png": "[encoded data removed]",
      "text/plain": [
       "<Figure size 360x324 with 2 Axes>"
      ]
     },
     "metadata": {
      "needs_background": "light"
     },
     "output_type": "display_data"
    },
    {
     "data": {
      "image/png": "[encoded data removed]",
      "text/plain": [
       "<Figure size 360x324 with 2 Axes>"
      ]
     },
     "metadata": {
      "needs_background": "light"
     },
     "output_type": "display_data"
    }
   ],
   "source": [
    "for n in range(y.shape[1]):\n",
    "    parity_plots_train_test(prediction_collection_train, prediction_collection_test, n)"
   ]
  },
  {
   "cell_type": "code",
   "execution_count": 34,
   "id": "ec46f71f",
   "metadata": {},
   "outputs": [
    {
     "data": {
      "image/png": "[encoded data removed]",
      "text/plain": [
       "<Figure size 720x360 with 4 Axes>"
      ]
     },
     "metadata": {
      "needs_background": "light"
     },
     "output_type": "display_data"
    }
   ],
   "source": [
    "parity_plots_test(prediction_collection_test, outputs=outputs)"
   ]
  },
  {
   "cell_type": "markdown",
   "id": "ff9ea4ac",
   "metadata": {},
   "source": [
    "### predicted outputs"
   ]
  },
  {
   "cell_type": "code",
   "execution_count": 15,
   "id": "feb62a6c",
   "metadata": {},
   "outputs": [],
   "source": [
    "model = joblib.load('model_12in4outEden_k6')"
   ]
  },
  {
   "cell_type": "markdown",
   "id": "ea09d5db",
   "metadata": {},
   "source": [
    "#### get scalers from training GASIF dataset (12in_4out): x_scaler_12, y_scaler_4"
   ]
  },
  {
   "cell_type": "code",
   "execution_count": 16,
   "id": "c6f1cd46",
   "metadata": {},
   "outputs": [
    {
     "name": "stdout",
     "output_type": "stream",
     "text": [
      "x_scaler_12\n",
      "[ 0.75911352  0.73204622  0.82142774 54.16025603  0.06        2.13491546\n",
      "  0.34217864  2.47538783  3.27650993  4.05830583  1.72272136  1.77202333]\n",
      "[1.96000000e+00 1.42500000e+00 2.02378467e+01 1.15300000e+03\n",
      " 1.90000000e-01 5.11960000e+01 5.92066667e+00 3.96986667e+01\n",
      " 2.41400000e+00 7.80226667e+01 1.95633333e+01 8.54000000e+00]\n",
      "[5.76253333e-01 5.35891667e-01 6.74743538e-01 2.93333333e+03\n",
      " 3.60000000e-03 4.55786400e+00 1.17086222e-01 6.12754489e+00\n",
      " 1.07355173e+01 1.64698462e+01 2.96776889e+00 3.14006667e+00]\n",
      "y_scaler_4\n",
      "[7.27719234 4.17715748 6.46819745 3.47334698]\n",
      "[30.37474333 32.23867333 72.05633    11.71019   ]\n",
      "[52.95752832 17.44864465 41.83757831 12.06413925]\n"
     ]
    },
    {
     "data": {
      "text/plain": [
       "['y_scaler_4']"
      ]
     },
     "execution_count": 16,
     "metadata": {},
     "output_type": "execute_result"
    }
   ],
   "source": [
    "x_scaler_12, y_scaler_4 = get_scalers(FEATURES_GASIF_12, TARGETS_GASIF_4)\n",
    "print('x_scaler_12')\n",
    "print(x_scaler_12.scale_)\n",
    "print(x_scaler_12.mean_)\n",
    "print(x_scaler_12.var_)\n",
    "print('y_scaler_4')\n",
    "print(y_scaler_4.scale_)\n",
    "print(y_scaler_4.mean_)\n",
    "print(y_scaler_4.var_)\n",
    "joblib.dump(x_scaler_12, 'x_scaler_12')\n",
    "joblib.dump(y_scaler_4, 'y_scaler_4')"
   ]
  },
  {
   "cell_type": "markdown",
   "id": "d3396990",
   "metadata": {},
   "source": [
    "#### get y_scaler from OUTPUTS (11out): y_scaler_11"
   ]
  },
  {
   "cell_type": "code",
   "execution_count": 17,
   "id": "3f3139a6",
   "metadata": {
    "scrolled": false
   },
   "outputs": [
    {
     "data": {
      "text/html": [
       "<div>\n",
       "<style scoped>\n",
       "    .dataframe tbody tr th:only-of-type {\n",
       "        vertical-align: middle;\n",
       "    }\n",
       "\n",
       "    .dataframe tbody tr th {\n",
       "        vertical-align: top;\n",
       "    }\n",
       "\n",
       "    .dataframe thead th {\n",
       "        text-align: right;\n",
       "    }\n",
       "</style>\n",
       "<table border=\"1\" class=\"dataframe\">\n",
       "  <thead>\n",
       "    <tr style=\"text-align: right;\">\n",
       "      <th></th>\n",
       "      <th>volCO2 (%)</th>\n",
       "      <th>volCO (%)</th>\n",
       "      <th>volCH4 (%)</th>\n",
       "      <th>volH2 (%)</th>\n",
       "      <th>volCOMB (%)</th>\n",
       "      <th>volSYNG (%)</th>\n",
       "      <th>H2_CO</th>\n",
       "      <th>HHV (MJ/m3)</th>\n",
       "      <th>CGE (%)</th>\n",
       "      <th>Edensity (MJ/kg biom)</th>\n",
       "      <th>GAS (m3/kg biom)</th>\n",
       "    </tr>\n",
       "  </thead>\n",
       "  <tbody>\n",
       "    <tr>\n",
       "      <th>0</th>\n",
       "      <td>32.5244</td>\n",
       "      <td>23.6541</td>\n",
       "      <td>7.3919</td>\n",
       "      <td>36.4296</td>\n",
       "      <td>67.4756</td>\n",
       "      <td>60.0837</td>\n",
       "      <td>1.5401</td>\n",
       "      <td>9.8471</td>\n",
       "      <td>40.1364</td>\n",
       "      <td>7.8526</td>\n",
       "      <td>0.7975</td>\n",
       "    </tr>\n",
       "  </tbody>\n",
       "</table>\n",
       "</div>"
      ],
      "text/plain": [
       "   volCO2 (%)  volCO (%)  volCH4 (%)  volH2 (%)  volCOMB (%)  volSYNG (%)  \\\n",
       "0     32.5244    23.6541      7.3919    36.4296      67.4756      60.0837   \n",
       "\n",
       "    H2_CO  HHV (MJ/m3)  CGE (%)  Edensity (MJ/kg biom)  GAS (m3/kg biom)  \n",
       "0  1.5401       9.8471  40.1364                 7.8526            0.7975  "
      ]
     },
     "execution_count": 17,
     "metadata": {},
     "output_type": "execute_result"
    }
   ],
   "source": [
    "TARGETS_GASIF_11 = pd.concat([dfGASIF_dataset.iloc[:,23:30], dfGASIF_dataset.iloc[:,36:40]], axis=1)\n",
    "TARGETS_GASIF_11.head(1)"
   ]
  },
  {
   "cell_type": "code",
   "execution_count": 18,
   "id": "a6c9528c",
   "metadata": {},
   "outputs": [
    {
     "name": "stdout",
     "output_type": "stream",
     "text": [
      "y_scaler_11\n",
      "[ 6.46819745  7.27719234  1.37250726  4.17715748  6.46819745  5.56016699\n",
      "  0.53577682  1.03693841 15.78432973  3.47334698  0.25388598]\n",
      "[27.94367    30.37474333  9.44290667 32.23867333 72.05633    62.61340667\n",
      "  1.18146    10.89881667 57.47952    11.71019     1.06113333]\n",
      "[4.18375783e+01 5.29575283e+01 1.88377619e+00 1.74486447e+01\n",
      " 4.18375783e+01 3.09154570e+01 2.87056804e-01 1.07524128e+00\n",
      " 2.49145065e+02 1.20641393e+01 6.44580909e-02]\n"
     ]
    },
    {
     "data": {
      "text/plain": [
       "['y_scaler_11']"
      ]
     },
     "execution_count": 18,
     "metadata": {},
     "output_type": "execute_result"
    }
   ],
   "source": [
    "_, y_scaler_11 = get_scalers(FEATURES_GASIF_12, TARGETS_GASIF_11)\n",
    "print('y_scaler_11')\n",
    "print(y_scaler_11.scale_)\n",
    "print(y_scaler_11.mean_)\n",
    "print(y_scaler_11.var_)\n",
    "joblib.dump(y_scaler_11, 'y_scaler_11')"
   ]
  },
  {
   "cell_type": "markdown",
   "id": "9d4c5959",
   "metadata": {},
   "source": [
    "#### scaling training GASIF dataset: X_scaled, y_scaled_4"
   ]
  },
  {
   "cell_type": "code",
   "execution_count": 19,
   "id": "b4155c50",
   "metadata": {},
   "outputs": [
    {
     "data": {
      "text/html": [
       "<div>\n",
       "<style scoped>\n",
       "    .dataframe tbody tr th:only-of-type {\n",
       "        vertical-align: middle;\n",
       "    }\n",
       "\n",
       "    .dataframe tbody tr th {\n",
       "        vertical-align: top;\n",
       "    }\n",
       "\n",
       "    .dataframe thead th {\n",
       "        text-align: right;\n",
       "    }\n",
       "</style>\n",
       "<table border=\"1\" class=\"dataframe\">\n",
       "  <thead>\n",
       "    <tr style=\"text-align: right;\">\n",
       "      <th></th>\n",
       "      <th>SA</th>\n",
       "      <th>SBR</th>\n",
       "      <th>HHVbiom (MJ/kg)</th>\n",
       "      <th>T (K)</th>\n",
       "      <th>SR</th>\n",
       "      <th>C (%)</th>\n",
       "      <th>H (%)</th>\n",
       "      <th>O (%)</th>\n",
       "      <th>ash (%)</th>\n",
       "      <th>VM (%)</th>\n",
       "      <th>FC (%)</th>\n",
       "      <th>MC (%)</th>\n",
       "    </tr>\n",
       "  </thead>\n",
       "  <tbody>\n",
       "    <tr>\n",
       "      <th>0</th>\n",
       "      <td>0.487411</td>\n",
       "      <td>-0.443961</td>\n",
       "      <td>-0.81924</td>\n",
       "      <td>0.369274</td>\n",
       "      <td>-1.0</td>\n",
       "      <td>-0.822515</td>\n",
       "      <td>-0.20652</td>\n",
       "      <td>1.293265</td>\n",
       "      <td>-0.294215</td>\n",
       "      <td>0.223574</td>\n",
       "      <td>0.032894</td>\n",
       "      <td>-1.13994</td>\n",
       "    </tr>\n",
       "  </tbody>\n",
       "</table>\n",
       "</div>"
      ],
      "text/plain": [
       "         SA       SBR  HHVbiom (MJ/kg)     T (K)   SR     C (%)    H (%)  \\\n",
       "0  0.487411 -0.443961         -0.81924  0.369274 -1.0 -0.822515 -0.20652   \n",
       "\n",
       "      O (%)   ash (%)    VM (%)    FC (%)   MC (%)  \n",
       "0  1.293265 -0.294215  0.223574  0.032894 -1.13994  "
      ]
     },
     "execution_count": 19,
     "metadata": {},
     "output_type": "execute_result"
    }
   ],
   "source": [
    "X_scaled = scale_X(FEATURES_GASIF_12, x_scaler_12)\n",
    "X_scaled = pd.DataFrame(X_scaled, columns=FEATURES_GASIF_12.columns)\n",
    "X_scaled.head(1)"
   ]
  },
  {
   "cell_type": "code",
   "execution_count": 20,
   "id": "38a07969",
   "metadata": {},
   "outputs": [
    {
     "data": {
      "text/html": [
       "<div>\n",
       "<style scoped>\n",
       "    .dataframe tbody tr th:only-of-type {\n",
       "        vertical-align: middle;\n",
       "    }\n",
       "\n",
       "    .dataframe tbody tr th {\n",
       "        vertical-align: top;\n",
       "    }\n",
       "\n",
       "    .dataframe thead th {\n",
       "        text-align: right;\n",
       "    }\n",
       "</style>\n",
       "<table border=\"1\" class=\"dataframe\">\n",
       "  <thead>\n",
       "    <tr style=\"text-align: right;\">\n",
       "      <th></th>\n",
       "      <th>volCO (%)</th>\n",
       "      <th>volH2 (%)</th>\n",
       "      <th>volCOMB (%)</th>\n",
       "      <th>Edensity (MJ/kg biom)</th>\n",
       "    </tr>\n",
       "  </thead>\n",
       "  <tbody>\n",
       "    <tr>\n",
       "      <th>0</th>\n",
       "      <td>-0.923521</td>\n",
       "      <td>1.003296</td>\n",
       "      <td>-0.708193</td>\n",
       "      <td>-1.110626</td>\n",
       "    </tr>\n",
       "  </tbody>\n",
       "</table>\n",
       "</div>"
      ],
      "text/plain": [
       "   volCO (%)  volH2 (%)  volCOMB (%)  Edensity (MJ/kg biom)\n",
       "0  -0.923521   1.003296    -0.708193              -1.110626"
      ]
     },
     "execution_count": 20,
     "metadata": {},
     "output_type": "execute_result"
    }
   ],
   "source": [
    "y_scaled_4 = scale_X(TARGETS_GASIF_4, y_scaler_4)\n",
    "y_scaled_4 = pd.DataFrame(y_scaled_4, columns=TARGETS_GASIF_4.columns)\n",
    "y_scaled_4.head(1)"
   ]
  },
  {
   "cell_type": "markdown",
   "id": "a8d0fe5a",
   "metadata": {},
   "source": [
    "#### scaling outputs: y_scaled_11"
   ]
  },
  {
   "cell_type": "code",
   "execution_count": 21,
   "id": "8aef14c5",
   "metadata": {},
   "outputs": [
    {
     "data": {
      "text/html": [
       "<div>\n",
       "<style scoped>\n",
       "    .dataframe tbody tr th:only-of-type {\n",
       "        vertical-align: middle;\n",
       "    }\n",
       "\n",
       "    .dataframe tbody tr th {\n",
       "        vertical-align: top;\n",
       "    }\n",
       "\n",
       "    .dataframe thead th {\n",
       "        text-align: right;\n",
       "    }\n",
       "</style>\n",
       "<table border=\"1\" class=\"dataframe\">\n",
       "  <thead>\n",
       "    <tr style=\"text-align: right;\">\n",
       "      <th></th>\n",
       "      <th>volCO2 (%)</th>\n",
       "      <th>volCO (%)</th>\n",
       "      <th>volCH4 (%)</th>\n",
       "      <th>volH2 (%)</th>\n",
       "      <th>volCOMB (%)</th>\n",
       "      <th>volSYNG (%)</th>\n",
       "      <th>H2_CO</th>\n",
       "      <th>HHV (MJ/m3)</th>\n",
       "      <th>CGE (%)</th>\n",
       "      <th>Edensity (MJ/kg biom)</th>\n",
       "      <th>GAS (m3/kg biom)</th>\n",
       "    </tr>\n",
       "  </thead>\n",
       "  <tbody>\n",
       "    <tr>\n",
       "      <th>0</th>\n",
       "      <td>0.708193</td>\n",
       "      <td>-0.923521</td>\n",
       "      <td>-1.49435</td>\n",
       "      <td>1.003296</td>\n",
       "      <td>-0.708193</td>\n",
       "      <td>-0.45497</td>\n",
       "      <td>0.669383</td>\n",
       "      <td>-1.014252</td>\n",
       "      <td>-1.098756</td>\n",
       "      <td>-1.110626</td>\n",
       "      <td>-1.038393</td>\n",
       "    </tr>\n",
       "  </tbody>\n",
       "</table>\n",
       "</div>"
      ],
      "text/plain": [
       "   volCO2 (%)  volCO (%)  volCH4 (%)  volH2 (%)  volCOMB (%)  volSYNG (%)  \\\n",
       "0    0.708193  -0.923521    -1.49435   1.003296    -0.708193     -0.45497   \n",
       "\n",
       "      H2_CO  HHV (MJ/m3)   CGE (%)  Edensity (MJ/kg biom)  GAS (m3/kg biom)  \n",
       "0  0.669383    -1.014252 -1.098756              -1.110626         -1.038393  "
      ]
     },
     "execution_count": 21,
     "metadata": {},
     "output_type": "execute_result"
    }
   ],
   "source": [
    "y_scaled_11 = scale_X(TARGETS_GASIF_11, y_scaler_11)\n",
    "y_scaled_11 = pd.DataFrame(y_scaled_11, columns=TARGETS_GASIF_11.columns)\n",
    "y_scaled_11.head(1)"
   ]
  },
  {
   "cell_type": "markdown",
   "id": "993658e7",
   "metadata": {},
   "source": [
    "#### predicted outputs_unscaled"
   ]
  },
  {
   "cell_type": "code",
   "execution_count": 42,
   "id": "fce04fcd",
   "metadata": {},
   "outputs": [],
   "source": [
    "y_pred_mu_CO = predict_coregionalized(model, X_scaled.values, 0)[0]*sqrt(y_scaler_11.var_[1]) + y_scaler_11.mean_[1]\n",
    "y_pred_std_CO = predict_coregionalized(model, X_scaled.values, 0)[1]*sqrt(y_scaler_11.var_[1])\n",
    "\n",
    "y_pred_mu_H2 = predict_coregionalized(model, X_scaled.values, 1)[0]*sqrt(y_scaler_11.var_[3]) + y_scaler_11.mean_[3]\n",
    "y_pred_std_H2 = predict_coregionalized(model, X_scaled.values, 1)[1]*sqrt(y_scaler_11.var_[3])\n",
    "\n",
    "y_pred_mu_COMB = predict_coregionalized(model, X_scaled.values, 2)[0]*sqrt(y_scaler_11.var_[4]) + y_scaler_11.mean_[4]\n",
    "y_pred_std_COMB = predict_coregionalized(model, X_scaled.values, 2)[1]*sqrt(y_scaler_11.var_[4])\n",
    "\n",
    "y_pred_mu_Edens = predict_coregionalized(model, X_scaled.values, 3)[0]*sqrt(y_scaler_11.var_[9]) + y_scaler_11.mean_[9]\n",
    "y_pred_std_Edens = predict_coregionalized(model, X_scaled.values, 3)[1]*sqrt(y_scaler_11.var_[9])"
   ]
  },
  {
   "cell_type": "code",
   "execution_count": 43,
   "id": "20c685e6",
   "metadata": {},
   "outputs": [],
   "source": [
    "def predict_CO(X, model=model, x_scaler=x_scaler_12, y_scaler_11=y_scaler_11):\n",
    "    X_scaled = x_scaler.transform(X)\n",
    "    y_pred_mu_CO = predict_coregionalized(model, X_scaled, 0)[0]*sqrt(y_scaler_11.var_[1]) + y_scaler_11.mean_[1]\n",
    "    y_pred_std_CO = predict_coregionalized(model, X_scaled, 0)[1]*sqrt(y_scaler_11.var_[1])\n",
    "    return y_pred_mu_CO, y_pred_std_CO "
   ]
  },
  {
   "cell_type": "code",
   "execution_count": 44,
   "id": "83b7f30c",
   "metadata": {},
   "outputs": [],
   "source": [
    "def predict_H2(X, model=model, x_scaler=x_scaler_12, y_scaler_11=y_scaler_11):\n",
    "    X_scaled = x_scaler.transform(X)\n",
    "    y_pred_mu_H2 = predict_coregionalized(model, X_scaled, 1)[0]*sqrt(y_scaler_11.var_[3]) + y_scaler_11.mean_[3]\n",
    "    y_pred_std_H2 = predict_coregionalized(model, X_scaled, 1)[1]*sqrt(y_scaler_11.var_[3])\n",
    "    return y_pred_mu_H2, y_pred_std_H2   "
   ]
  },
  {
   "cell_type": "code",
   "execution_count": 45,
   "id": "6c9d4e1f",
   "metadata": {},
   "outputs": [],
   "source": [
    "def predict_COMB(X, model=model, x_scaler=x_scaler_12, y_scaler_11=y_scaler_11):\n",
    "    X_scaled = x_scaler.transform(X)\n",
    "    y_pred_mu_COMB = predict_coregionalized(model, X_scaled, 2)[0]*sqrt(y_scaler_11.var_[4]) + y_scaler_11.mean_[4]\n",
    "    y_pred_std_COMB = predict_coregionalized(model, X_scaled, 2)[1]*sqrt(y_scaler_11.var_[4])\n",
    "    return y_pred_mu_COMB, y_pred_std_COMB   "
   ]
  },
  {
   "cell_type": "code",
   "execution_count": 46,
   "id": "9b403e2d",
   "metadata": {},
   "outputs": [],
   "source": [
    "def predict_Edensity(X, model=model, x_scaler=x_scaler_12, y_scaler_11=y_scaler_11):\n",
    "    X_scaled = x_scaler.transform(X)\n",
    "    y_pred_mu_Edens = predict_coregionalized(model, X_scaled, 3)[0]*sqrt(y_scaler_11.var_[9]) + y_scaler_11.mean_[9]\n",
    "    y_pred_std_Edens = predict_coregionalized(model, X_scaled, 3)[1]*sqrt(y_scaler_11.var_[9])\n",
    "    return y_pred_mu_Edens, y_pred_std_Edens"
   ]
  },
  {
   "cell_type": "code",
   "execution_count": 22,
   "id": "ddc4d244",
   "metadata": {},
   "outputs": [],
   "source": [
    "y_pred_mu_CO = predict_CO(X, model=model, x_scaler=x_scaler_12, y_scaler_11=y_scaler_11)[0]\n",
    "y_pred_std_CO = predict_CO(X, model=model, x_scaler=x_scaler_12, y_scaler_11=y_scaler_11)[1]\n",
    "\n",
    "y_pred_mu_H2 = predict_H2(X, model=model, x_scaler=x_scaler_12, y_scaler_11=y_scaler_11)[0]\n",
    "y_pred_std_H2 = predict_H2(X, model=model, x_scaler=x_scaler_12, y_scaler_11=y_scaler_11)[1]\n",
    "\n",
    "y_pred_mu_COMB = predict_COMB(X, model=model, x_scaler=x_scaler_12, y_scaler_11=y_scaler_11)[0]\n",
    "y_pred_std_COMB = predict_COMB(X, model=model, x_scaler=x_scaler_12, y_scaler_11=y_scaler_11)[1]\n",
    "\n",
    "y_pred_mu_Edens = predict_Edensity(X, model=model, x_scaler=x_scaler_12, y_scaler_11=y_scaler_11)[0]\n",
    "y_pred_std_Edens = predict_Edensity(X, model=model, x_scaler=x_scaler_12, y_scaler_11=y_scaler_11)[1]"
   ]
  },
  {
   "cell_type": "markdown",
   "id": "984a8ded",
   "metadata": {},
   "source": [
    "### calculated outputs"
   ]
  },
  {
   "cell_type": "code",
   "execution_count": 23,
   "id": "e6ce144d",
   "metadata": {},
   "outputs": [],
   "source": [
    "def plot_calculated_output(y_scaled_11, y_calc_mu, y_calc_std, n):\n",
    "    y_true = y_scaled_11.values[:,n]\n",
    "    \n",
    "    fig, ax = plt.subplots(1, 1, figsize=(2.7, 5))\n",
    "    make_parity_plot(y_true, y_calc_mu, ax, y_calc_std, ls='none', linewidth=1, color='#337eb8')\n",
    "    ax.set_title(TARGETS_GASIF_11.columns[n], fontsize=14)\n",
    "    R2 = r2_score(y_true, y_calc_mu)\n",
    "    ax.annotate((f'R2: {R2:.4f}'), xy=(1, 0), xycoords='axes fraction', fontsize = 14,\n",
    "                xytext=(-5, 5), textcoords='offset points', ha='right', va='bottom')\n",
    "    fig.tight_layout()\n",
    "    plt.show()"
   ]
  },
  {
   "cell_type": "code",
   "execution_count": 49,
   "id": "d87ce135",
   "metadata": {},
   "outputs": [],
   "source": [
    "def scale_output(y_pred_mu, y_pred_std, y_scaler_11=y_scaler_11, n=0):\n",
    "    y_pred_mu_scaled = ((y_pred_mu - y_scaler_11.mean_[n])/sqrt(y_scaler_11.var_[n])).flatten() \n",
    "    y_pred_std_scaled = (y_pred_std/sqrt(y_scaler_11.var_[n])).flatten()\n",
    "    return y_pred_mu_scaled, y_pred_std_scaled"
   ]
  },
  {
   "cell_type": "markdown",
   "id": "36ac7aa6",
   "metadata": {},
   "source": [
    "#### calculation of CH4 predictions"
   ]
  },
  {
   "cell_type": "code",
   "execution_count": 24,
   "id": "0ae633a5",
   "metadata": {},
   "outputs": [
    {
     "data": {
      "text/plain": [
       "'volCH4 (%)'"
      ]
     },
     "execution_count": 24,
     "metadata": {},
     "output_type": "execute_result"
    }
   ],
   "source": [
    "TARGETS_GASIF_11.columns[2]"
   ]
  },
  {
   "cell_type": "code",
   "execution_count": 51,
   "id": "35132ed8",
   "metadata": {},
   "outputs": [],
   "source": [
    "def predict_CH4(X, model=model, x_scaler=x_scaler_12, y_scaler_11=y_scaler_11):\n",
    "    X_scaled = x_scaler.transform(X)\n",
    "    y_pred_mu_CO = predict_coregionalized(model, X_scaled, 0)[0]*sqrt(y_scaler_11.var_[1]) + y_scaler_11.mean_[1]\n",
    "    y_pred_std_CO = predict_coregionalized(model, X_scaled, 0)[1]*sqrt(y_scaler_11.var_[1])\n",
    "    y_pred_mu_H2 = predict_coregionalized(model, X_scaled, 1)[0]*sqrt(y_scaler_11.var_[3]) + y_scaler_11.mean_[3]\n",
    "    y_pred_std_H2 = predict_coregionalized(model, X_scaled, 1)[1]*sqrt(y_scaler_11.var_[3])\n",
    "    y_pred_mu_COMB = predict_coregionalized(model, X_scaled, 2)[0]*sqrt(y_scaler_11.var_[4]) + y_scaler_11.mean_[4]\n",
    "    y_pred_std_COMB = predict_coregionalized(model, X_scaled, 2)[1]*sqrt(y_scaler_11.var_[4])\n",
    "    \n",
    "    y_pred_mu_CH4 = y_pred_mu_COMB - y_pred_mu_CO - y_pred_mu_H2\n",
    "    y_pred_std_CH4 = additive_errorprop([y_pred_std_COMB, y_pred_std_CO, y_pred_std_H2])\n",
    "\n",
    "    return y_pred_mu_CH4, y_pred_std_CH4"
   ]
  },
  {
   "cell_type": "code",
   "execution_count": 25,
   "id": "3bc44f90",
   "metadata": {},
   "outputs": [
    {
     "data": {
      "image/png": "[encoded data removed]",
      "text/plain": [
       "<Figure size 194.4x360 with 1 Axes>"
      ]
     },
     "metadata": {
      "needs_background": "light"
     },
     "output_type": "display_data"
    }
   ],
   "source": [
    "y_pred_mu_CH4 = predict_CH4(X, model=model, x_scaler=x_scaler_12, y_scaler_11=y_scaler_11)[0]\n",
    "y_pred_std_CH4 = predict_CH4(X, model=model, x_scaler=x_scaler_12, y_scaler_11=y_scaler_11)[1]\n",
    "\n",
    "y_pred_mu_CH4_scaled = scale_output(y_pred_mu_CH4, y_pred_std_CH4, y_scaler_11=y_scaler_11, n=2)[0]\n",
    "y_pred_std_CH4_scaled = scale_output(y_pred_mu_CH4, y_pred_std_CH4, y_scaler_11=y_scaler_11, n=2)[1]\n",
    "\n",
    "plot_calculated_output(y_scaled_11, y_pred_mu_CH4_scaled, y_pred_std_CH4_scaled, 2)"
   ]
  },
  {
   "cell_type": "code",
   "execution_count": 53,
   "id": "1349a0fa",
   "metadata": {},
   "outputs": [],
   "source": [
    "def predict_CH4_covar(X=FEATURES_GASIF_12, y=TARGETS_GASIF_11, \n",
    "                      model=model, x_scaler=x_scaler_12, y_scaler_11=y_scaler_11):\n",
    "    X_scaled = x_scaler.transform(X)\n",
    "    y_pred_mu_CO = predict_coregionalized(model, X_scaled, 0)[0]*sqrt(y_scaler_11.var_[1]) + y_scaler_11.mean_[1]\n",
    "    y_pred_std_CO = predict_coregionalized(model, X_scaled, 0)[1]*sqrt(y_scaler_11.var_[1])\n",
    "    y_pred_mu_H2 = predict_coregionalized(model, X_scaled, 1)[0]*sqrt(y_scaler_11.var_[3]) + y_scaler_11.mean_[3]\n",
    "    y_pred_std_H2 = predict_coregionalized(model, X_scaled, 1)[1]*sqrt(y_scaler_11.var_[3])\n",
    "    y_pred_mu_COMB = predict_coregionalized(model, X_scaled, 2)[0]*sqrt(y_scaler_11.var_[4]) + y_scaler_11.mean_[4]\n",
    "    y_pred_std_COMB = predict_coregionalized(model, X_scaled, 2)[1]*sqrt(y_scaler_11.var_[4])\n",
    "    \n",
    "    y_pred_mu_CH4 = y_pred_mu_COMB - y_pred_mu_CO - y_pred_mu_H2\n",
    "    \n",
    "    cov1 = np.corrcoef(y['volCOMB (%)'], y['volCO (%)'])[0,1]*y_pred_std_COMB.flatten()*y_pred_std_CO.flatten()\n",
    "    cov2 = np.corrcoef(y['volCOMB (%)'], y['volH2 (%)'])[0,1]*y_pred_std_COMB.flatten()*y_pred_std_H2.flatten()\n",
    "    cov3 = np.corrcoef(y['volCO (%)'], y['volH2 (%)'])[0,1]*y_pred_std_CO.flatten()*y_pred_std_H2.flatten()\n",
    "    y_pred_std_CH4_covar = sqrt(np.sum(np.square([y_pred_std_COMB, y_pred_std_CO, y_pred_std_H2]),\n",
    "                                       axis=0).flatten() - 2*cov1 - 2*cov2 - 2*cov3)\n",
    "\n",
    "    return y_pred_mu_CH4, y_pred_std_CH4_covar"
   ]
  },
  {
   "cell_type": "code",
   "execution_count": 27,
   "id": "10a19f74",
   "metadata": {
    "scrolled": false
   },
   "outputs": [
    {
     "data": {
      "image/png": "[encoded data removed]",
      "text/plain": [
       "<Figure size 194.4x360 with 1 Axes>"
      ]
     },
     "metadata": {
      "needs_background": "light"
     },
     "output_type": "display_data"
    }
   ],
   "source": [
    "y_pred_mu_CH4 = predict_CH4_covar(X, y, model=model, x_scaler=x_scaler_12, y_scaler_11=y_scaler_11)[0]\n",
    "y_pred_std_CH4_covar = predict_CH4_covar(X, y, model=model, x_scaler=x_scaler_12, y_scaler_11=y_scaler_11)[1]\n",
    "\n",
    "y_pred_mu_CH4_scaled = scale_output(y_pred_mu_CH4, y_pred_std_CH4_covar, y_scaler_11=y_scaler_11, n=2)[0]\n",
    "y_pred_std_CH4_scaled_covar = scale_output(y_pred_mu_CH4, y_pred_std_CH4_covar, y_scaler_11=y_scaler_11, n=2)[1]\n",
    "\n",
    "plot_calculated_output(y_scaled_11, y_pred_mu_CH4_scaled, y_pred_std_CH4_scaled_covar, 2)"
   ]
  },
  {
   "cell_type": "code",
   "execution_count": 55,
   "id": "7a4479ea",
   "metadata": {},
   "outputs": [],
   "source": [
    "cov1 = np.corrcoef(TARGETS_GASIF_11['volCOMB (%)'], TARGETS_GASIF_11[\n",
    "    'volCO (%)'])[0,1]*y_pred_std_COMB.flatten()*y_pred_std_CO.flatten()\n",
    "\n",
    "cov2 = np.corrcoef(TARGETS_GASIF_11['volCOMB (%)'], TARGETS_GASIF_11[\n",
    "    'volH2 (%)'])[0,1]*y_pred_std_COMB.flatten()*y_pred_std_H2.flatten()\n",
    "\n",
    "cov3 = np.corrcoef(TARGETS_GASIF_11['volCO (%)'], TARGETS_GASIF_11[\n",
    "    'volH2 (%)'])[0,1]*y_pred_std_CO.flatten()*y_pred_std_H2.flatten()"
   ]
  },
  {
   "cell_type": "code",
   "execution_count": 59,
   "id": "849000a8",
   "metadata": {},
   "outputs": [],
   "source": [
    "y_pred_std_CH4_covar = sqrt(np.sum(np.square([y_pred_std_COMB, y_pred_std_CO, y_pred_std_H2]), \n",
    "                                 axis=0).flatten() - 2*cov1 - 2*cov2 - 2*cov3)\n",
    "y_pred_std_CH4_scaled_covar = (y_pred_std_CH4_covar/sqrt(y_scaler_11.var_[2])).flatten()"
   ]
  },
  {
   "cell_type": "code",
   "execution_count": 60,
   "id": "38cef02b",
   "metadata": {},
   "outputs": [
    {
     "data": {
      "image/png": "[encoded data removed]",
      "text/plain": [
       "<Figure size 194.4x360 with 1 Axes>"
      ]
     },
     "metadata": {
      "needs_background": "light"
     },
     "output_type": "display_data"
    }
   ],
   "source": [
    "plot_calculated_output(y_scaled_11, y_pred_mu_CH4_scaled, y_pred_std_CH4_scaled_covar, 2)"
   ]
  },
  {
   "cell_type": "code",
   "execution_count": 28,
   "id": "eeaf17f6",
   "metadata": {},
   "outputs": [
    {
     "data": {
      "text/plain": [
       "array([1.4680624 , 1.646588  , 1.26921128, 1.00722625, 1.15706653,\n",
       "       1.21764356, 0.62465747, 1.23797079, 0.52437427, 0.51624895,\n",
       "       1.46766204, 1.6459429 , 1.27187182, 1.00796047, 1.15600082,\n",
       "       1.21842038, 0.62765674, 1.23777981, 0.52741093, 0.51879586,\n",
       "       0.53448592, 0.51242667, 0.46705209, 0.52499154, 0.60181473,\n",
       "       0.53738447, 0.51527718, 0.48337602, 0.55241426, 2.57043138])"
      ]
     },
     "execution_count": 28,
     "metadata": {},
     "output_type": "execute_result"
    }
   ],
   "source": [
    "y_pred_std_CH4.flatten()"
   ]
  },
  {
   "cell_type": "code",
   "execution_count": 29,
   "id": "a510deb0",
   "metadata": {},
   "outputs": [
    {
     "data": {
      "text/plain": [
       "array([1.32413592, 1.49042972, 1.14009596, 0.89357631, 1.03392706,\n",
       "       1.09127119, 0.53290383, 1.11028245, 0.44230078, 0.43610656,\n",
       "       1.32390441, 1.48994637, 1.14267214, 0.89438503, 1.03314012,\n",
       "       1.0920927 , 0.53573933, 1.1101511 , 0.44499911, 0.43845679,\n",
       "       0.45044793, 0.43334235, 0.39237367, 0.44085522, 0.51141653,\n",
       "       0.45309117, 0.43597331, 0.40663936, 0.46513651, 2.34278126])"
      ]
     },
     "execution_count": 29,
     "metadata": {},
     "output_type": "execute_result"
    }
   ],
   "source": [
    "y_pred_std_CH4_covar"
   ]
  },
  {
   "cell_type": "markdown",
   "id": "12feaa25",
   "metadata": {},
   "source": [
    "#### calculation of volSYNG predictions"
   ]
  },
  {
   "cell_type": "code",
   "execution_count": 30,
   "id": "1e5dd880",
   "metadata": {},
   "outputs": [
    {
     "data": {
      "text/plain": [
       "'volSYNG (%)'"
      ]
     },
     "execution_count": 30,
     "metadata": {},
     "output_type": "execute_result"
    }
   ],
   "source": [
    "TARGETS_GASIF_11.columns[5]"
   ]
  },
  {
   "cell_type": "code",
   "execution_count": 32,
   "id": "878473b1",
   "metadata": {},
   "outputs": [],
   "source": [
    "def predict_SYNG(X, model=model, x_scaler=x_scaler_12, y_scaler_11=y_scaler_11):\n",
    "    X_scaled = x_scaler.transform(X)\n",
    "    y_pred_mu_CO = predict_coregionalized(model, X_scaled, 0)[0]*sqrt(y_scaler_11.var_[1]) + y_scaler_11.mean_[1]\n",
    "    y_pred_std_CO = predict_coregionalized(model, X_scaled, 0)[1]*sqrt(y_scaler_11.var_[1])\n",
    "    y_pred_mu_H2 = predict_coregionalized(model, X_scaled, 1)[0]*sqrt(y_scaler_11.var_[3]) + y_scaler_11.mean_[3]\n",
    "    y_pred_std_H2 = predict_coregionalized(model, X_scaled, 1)[1]*sqrt(y_scaler_11.var_[3])\n",
    "    \n",
    "    y_pred_mu_SYNG = y_pred_mu_CO + y_pred_mu_H2\n",
    "    y_pred_std_SYNG = additive_errorprop([y_pred_std_CO, y_pred_std_H2])\n",
    "\n",
    "    return y_pred_mu_SYNG, y_pred_std_SYNG"
   ]
  },
  {
   "cell_type": "code",
   "execution_count": 33,
   "id": "ef7162b1",
   "metadata": {},
   "outputs": [
    {
     "data": {
      "image/png": "[encoded data removed]",
      "text/plain": [
       "<Figure size 194.4x360 with 1 Axes>"
      ]
     },
     "metadata": {
      "needs_background": "light"
     },
     "output_type": "display_data"
    }
   ],
   "source": [
    "y_pred_mu_SYNG = predict_SYNG(X, model=model, x_scaler=x_scaler_12, y_scaler_11=y_scaler_11)[0]\n",
    "y_pred_std_SYNG = predict_SYNG(X, model=model, x_scaler=x_scaler_12, y_scaler_11=y_scaler_11)[1]\n",
    "\n",
    "y_pred_mu_SYNG_scaled = scale_output(y_pred_mu_SYNG, y_pred_std_SYNG, y_scaler_11=y_scaler_11, n=5)[0]\n",
    "y_pred_std_SYNG_scaled = scale_output(y_pred_mu_SYNG, y_pred_std_SYNG, y_scaler_11=y_scaler_11, n=5)[1]\n",
    "\n",
    "plot_calculated_output(y_scaled_11, y_pred_mu_SYNG_scaled, y_pred_std_SYNG_scaled, 5)"
   ]
  },
  {
   "cell_type": "code",
   "execution_count": 34,
   "id": "c34a481f",
   "metadata": {},
   "outputs": [],
   "source": [
    "def predict_SYNG_covar(X=FEATURES_GASIF_12, y=TARGETS_GASIF_11, \n",
    "                       model=model, x_scaler=x_scaler_12, y_scaler_11=y_scaler_11):\n",
    "    X_scaled = x_scaler.transform(X)\n",
    "    y_pred_mu_CO = predict_coregionalized(model, X_scaled, 0)[0]*sqrt(y_scaler_11.var_[1]) + y_scaler_11.mean_[1]\n",
    "    y_pred_std_CO = predict_coregionalized(model, X_scaled, 0)[1]*sqrt(y_scaler_11.var_[1])\n",
    "    y_pred_mu_H2 = predict_coregionalized(model, X_scaled, 1)[0]*sqrt(y_scaler_11.var_[3]) + y_scaler_11.mean_[3]\n",
    "    y_pred_std_H2 = predict_coregionalized(model, X_scaled, 1)[1]*sqrt(y_scaler_11.var_[3])\n",
    "\n",
    "    y_pred_mu_SYNG = y_pred_mu_CO + y_pred_mu_H2\n",
    "    \n",
    "    cov1 = np.corrcoef(y['volCO (%)'], y['volH2 (%)'])[0,1]*y_pred_std_CO.flatten()*y_pred_std_H2.flatten()\n",
    "    y_pred_std_SYNG_covar = sqrt(np.sum(np.square([y_pred_std_CO, y_pred_std_H2]), axis=0).flatten() + 2*cov1)\n",
    "\n",
    "    return y_pred_mu_SYNG, y_pred_std_SYNG_covar"
   ]
  },
  {
   "cell_type": "code",
   "execution_count": 35,
   "id": "f5852e53",
   "metadata": {},
   "outputs": [
    {
     "data": {
      "image/png": "[encoded data removed]",
      "text/plain": [
       "<Figure size 194.4x360 with 1 Axes>"
      ]
     },
     "metadata": {
      "needs_background": "light"
     },
     "output_type": "display_data"
    }
   ],
   "source": [
    "y_pred_mu_SYNG = predict_SYNG_covar(X, model=model, x_scaler=x_scaler_12, y_scaler_11=y_scaler_11)[0]\n",
    "y_pred_std_SYNG_covar = predict_SYNG_covar(X, model=model, x_scaler=x_scaler_12, y_scaler_11=y_scaler_11)[1]\n",
    "\n",
    "y_pred_mu_SYNG_scaled = scale_output(y_pred_mu_SYNG, y_pred_std_SYNG_covar, y_scaler_11=y_scaler_11, n=5)[0]\n",
    "y_pred_std_SYNG_scaled_covar = scale_output(y_pred_mu_SYNG, y_pred_std_SYNG_covar, y_scaler_11=y_scaler_11, n=5)[1]\n",
    "\n",
    "plot_calculated_output(y_scaled_11, y_pred_mu_SYNG_scaled, y_pred_std_SYNG_scaled_covar, 5)"
   ]
  },
  {
   "cell_type": "code",
   "execution_count": 36,
   "id": "2e23e33c",
   "metadata": {},
   "outputs": [
    {
     "data": {
      "text/plain": [
       "array([1.06848465, 1.20757065, 0.91536611, 0.70483949, 0.82435443,\n",
       "       0.87356771, 0.37916135, 0.88962197, 0.29231167, 0.29222964,\n",
       "       1.06842142, 1.2072697 , 0.91762419, 0.70567517, 0.82391064,\n",
       "       0.87435786, 0.38207337, 0.8895585 , 0.29497737, 0.29491023,\n",
       "       0.29507505, 0.29290197, 0.24518559, 0.27256836, 0.3567821 ,\n",
       "       0.29821482, 0.29580653, 0.26033143, 0.30147344, 1.91198654])"
      ]
     },
     "execution_count": 36,
     "metadata": {},
     "output_type": "execute_result"
    }
   ],
   "source": [
    "y_pred_std_SYNG.flatten()"
   ]
  },
  {
   "cell_type": "code",
   "execution_count": 37,
   "id": "6ec96e99",
   "metadata": {},
   "outputs": [
    {
     "data": {
      "text/plain": [
       "array([0.64029131, 0.72363883, 0.54853476, 0.42237632, 0.49399585,\n",
       "       0.523487  , 0.22721315, 0.53310754, 0.17516837, 0.17511918,\n",
       "       0.64025342, 0.72345849, 0.54988791, 0.42287711, 0.49372991,\n",
       "       0.5239605 , 0.22895819, 0.53306951, 0.1767658 , 0.17672553,\n",
       "       0.17682432, 0.17552209, 0.14692795, 0.16333718, 0.21380235,\n",
       "       0.17870583, 0.17726265, 0.15600412, 0.18065858, 1.14576128])"
      ]
     },
     "execution_count": 37,
     "metadata": {},
     "output_type": "execute_result"
    }
   ],
   "source": [
    "y_pred_std_SYNG_covar"
   ]
  },
  {
   "cell_type": "markdown",
   "id": "e4b66aa1",
   "metadata": {},
   "source": [
    "#### calculation of H2/CO predictions"
   ]
  },
  {
   "cell_type": "code",
   "execution_count": 38,
   "id": "3a1f0ecb",
   "metadata": {},
   "outputs": [
    {
     "data": {
      "text/plain": [
       "'H2_CO'"
      ]
     },
     "execution_count": 38,
     "metadata": {},
     "output_type": "execute_result"
    }
   ],
   "source": [
    "TARGETS_GASIF_11.columns[6]"
   ]
  },
  {
   "cell_type": "code",
   "execution_count": 71,
   "id": "3e572c7e",
   "metadata": {},
   "outputs": [],
   "source": [
    "def predict_H2CO(X, model=model, x_scaler=x_scaler_12, y_scaler_11=y_scaler_11):\n",
    "    X_scaled = x_scaler.transform(X)\n",
    "    y_pred_mu_CO = predict_coregionalized(model, X_scaled, 0)[0]*sqrt(y_scaler_11.var_[1]) + y_scaler_11.mean_[1]\n",
    "    y_pred_std_CO = predict_coregionalized(model, X_scaled, 0)[1]*sqrt(y_scaler_11.var_[1])\n",
    "    y_pred_mu_H2 = predict_coregionalized(model, X_scaled, 1)[0]*sqrt(y_scaler_11.var_[3]) + y_scaler_11.mean_[3]\n",
    "    y_pred_std_H2 = predict_coregionalized(model, X_scaled, 1)[1]*sqrt(y_scaler_11.var_[3])\n",
    "    \n",
    "    y_pred_mu_H2CO = y_pred_mu_H2 / y_pred_mu_CO\n",
    "    y_pred_std_H2CO = additive_errorprop([y_pred_std_H2/y_pred_mu_H2, y_pred_std_CO/y_pred_mu_CO])*y_pred_mu_H2CO\n",
    "\n",
    "    return y_pred_mu_H2CO, y_pred_std_H2CO"
   ]
  },
  {
   "cell_type": "code",
   "execution_count": 39,
   "id": "7b25ad65",
   "metadata": {},
   "outputs": [
    {
     "data": {
      "image/png": "[encoded data removed]",
      "text/plain": [
       "<Figure size 194.4x360 with 1 Axes>"
      ]
     },
     "metadata": {
      "needs_background": "light"
     },
     "output_type": "display_data"
    }
   ],
   "source": [
    "y_pred_mu_H2CO = predict_H2CO(X, model=model, x_scaler=x_scaler_12, y_scaler_11=y_scaler_11)[0]\n",
    "y_pred_std_H2CO = predict_H2CO(X, model=model, x_scaler=x_scaler_12, y_scaler_11=y_scaler_11)[1]\n",
    "\n",
    "y_pred_mu_H2CO_scaled = scale_output(y_pred_mu_H2CO, y_pred_std_H2CO, y_scaler_11=y_scaler_11, n=6)[0]\n",
    "y_pred_std_H2CO_scaled = scale_output(y_pred_mu_H2CO, y_pred_std_H2CO, y_scaler_11=y_scaler_11, n=6)[1]\n",
    "\n",
    "plot_calculated_output(y_scaled_11, y_pred_mu_H2CO_scaled, y_pred_std_H2CO_scaled, 6)"
   ]
  },
  {
   "cell_type": "markdown",
   "id": "1024881f",
   "metadata": {},
   "source": [
    "#### calculation of HHV predictions"
   ]
  },
  {
   "cell_type": "code",
   "execution_count": 73,
   "id": "508e155d",
   "metadata": {},
   "outputs": [
    {
     "data": {
      "text/plain": [
       "'HHV (MJ/m3)'"
      ]
     },
     "execution_count": 73,
     "metadata": {},
     "output_type": "execute_result"
    }
   ],
   "source": [
    "TARGETS_GASIF_11.columns[7]"
   ]
  },
  {
   "cell_type": "code",
   "execution_count": 74,
   "id": "bd77e80c",
   "metadata": {},
   "outputs": [],
   "source": [
    "def predict_HHV(X, model=model, x_scaler=x_scaler_12, y_scaler_11=y_scaler_11):\n",
    "    X_scaled = x_scaler.transform(X)\n",
    "    y_pred_mu_CO = predict_coregionalized(model, X_scaled, 0)[0]*sqrt(y_scaler_11.var_[1]) + y_scaler_11.mean_[1]\n",
    "    y_pred_std_CO = predict_coregionalized(model, X_scaled, 0)[1]*sqrt(y_scaler_11.var_[1])\n",
    "    y_pred_mu_H2 = predict_coregionalized(model, X_scaled, 1)[0]*sqrt(y_scaler_11.var_[3]) + y_scaler_11.mean_[3]\n",
    "    y_pred_std_H2 = predict_coregionalized(model, X_scaled, 1)[1]*sqrt(y_scaler_11.var_[3])\n",
    "    y_pred_mu_COMB = predict_coregionalized(model, X_scaled, 2)[0]*sqrt(y_scaler_11.var_[4]) + y_scaler_11.mean_[4]\n",
    "    y_pred_std_COMB = predict_coregionalized(model, X_scaled, 2)[1]*sqrt(y_scaler_11.var_[4])\n",
    "    y_pred_mu_CH4 = y_pred_mu_COMB - y_pred_mu_CO - y_pred_mu_H2\n",
    "    y_pred_std_CH4 = additive_errorprop([y_pred_std_COMB, y_pred_std_CO, y_pred_std_H2])\n",
    "    \n",
    "    y_pred_mu_HHV = (11.76*y_pred_mu_CO + 11.882*y_pred_mu_H2 + 37.024*y_pred_mu_CH4)/100\n",
    "    y_pred_std_HHV = additive_errorprop([11.76/100*y_pred_std_CO, 11.882/100*y_pred_std_H2, 37.024/100*y_pred_std_CH4])\n",
    "\n",
    "    return y_pred_mu_HHV, y_pred_std_HHV"
   ]
  },
  {
   "cell_type": "code",
   "execution_count": 40,
   "id": "cb194016",
   "metadata": {},
   "outputs": [
    {
     "data": {
      "image/png": "[encoded data removed]",
      "text/plain": [
       "<Figure size 194.4x360 with 1 Axes>"
      ]
     },
     "metadata": {
      "needs_background": "light"
     },
     "output_type": "display_data"
    }
   ],
   "source": [
    "y_pred_mu_HHV = predict_HHV(X, model=model, x_scaler=x_scaler_12, y_scaler_11=y_scaler_11)[0]\n",
    "y_pred_std_HHV = predict_HHV(X, model=model, x_scaler=x_scaler_12, y_scaler_11=y_scaler_11)[1]\n",
    "\n",
    "y_pred_mu_HHV_scaled = scale_output(y_pred_mu_HHV, y_pred_std_HHV, y_scaler_11=y_scaler_11, n=7)[0]\n",
    "y_pred_std_HHV_scaled = scale_output(y_pred_mu_HHV, y_pred_std_HHV, y_scaler_11=y_scaler_11, n=7)[1]\n",
    "\n",
    "plot_calculated_output(y_scaled_11, y_pred_mu_HHV_scaled, y_pred_std_HHV_scaled, 7)"
   ]
  },
  {
   "cell_type": "markdown",
   "id": "dc4499d9",
   "metadata": {},
   "source": [
    "#### calculation of GAS predictions"
   ]
  },
  {
   "cell_type": "code",
   "execution_count": 76,
   "id": "5cee017f",
   "metadata": {},
   "outputs": [
    {
     "data": {
      "text/plain": [
       "'GAS (m3/kg biom)'"
      ]
     },
     "execution_count": 76,
     "metadata": {},
     "output_type": "execute_result"
    }
   ],
   "source": [
    "TARGETS_GASIF_11.columns[10]"
   ]
  },
  {
   "cell_type": "code",
   "execution_count": 77,
   "id": "da86eee5",
   "metadata": {},
   "outputs": [],
   "source": [
    "def predict_GAS(X, model=model, x_scaler=x_scaler_12, y_scaler_11=y_scaler_11):\n",
    "    X_scaled = x_scaler.transform(X)\n",
    "    y_pred_mu_CO = predict_coregionalized(model, X_scaled, 0)[0]*sqrt(y_scaler_11.var_[1]) + y_scaler_11.mean_[1]\n",
    "    y_pred_std_CO = predict_coregionalized(model, X_scaled, 0)[1]*sqrt(y_scaler_11.var_[1])\n",
    "    y_pred_mu_H2 = predict_coregionalized(model, X_scaled, 1)[0]*sqrt(y_scaler_11.var_[3]) + y_scaler_11.mean_[3]\n",
    "    y_pred_std_H2 = predict_coregionalized(model, X_scaled, 1)[1]*sqrt(y_scaler_11.var_[3])\n",
    "    y_pred_mu_COMB = predict_coregionalized(model, X_scaled, 2)[0]*sqrt(y_scaler_11.var_[4]) + y_scaler_11.mean_[4]\n",
    "    y_pred_std_COMB = predict_coregionalized(model, X_scaled, 2)[1]*sqrt(y_scaler_11.var_[4])\n",
    "    y_pred_mu_Edens = predict_coregionalized(model, X_scaled, 3)[0]*sqrt(y_scaler_11.var_[9]) + y_scaler_11.mean_[9]\n",
    "    y_pred_std_Edens = predict_coregionalized(model, X_scaled, 3)[1]*sqrt(y_scaler_11.var_[9])\n",
    "    y_pred_mu_CH4 = y_pred_mu_COMB - y_pred_mu_CO - y_pred_mu_H2\n",
    "    y_pred_std_CH4 = additive_errorprop([y_pred_std_COMB, y_pred_std_CO, y_pred_std_H2])\n",
    "    y_pred_mu_HHV = (11.76*y_pred_mu_CO + 11.882*y_pred_mu_H2 + 37.024*y_pred_mu_CH4)/100\n",
    "    y_pred_std_HHV = additive_errorprop([11.76/100*y_pred_std_CO, 11.882/100*y_pred_std_H2, 37.024/100*y_pred_std_CH4])\n",
    "    \n",
    "    y_pred_mu_GAS = y_pred_mu_Edens / y_pred_mu_HHV\n",
    "    y_pred_std_GAS = additive_errorprop([y_pred_std_Edens/y_pred_mu_Edens,\n",
    "                                         y_pred_std_HHV/y_pred_mu_HHV])*y_pred_mu_GAS\n",
    "    \n",
    "    return y_pred_mu_GAS, y_pred_std_GAS"
   ]
  },
  {
   "cell_type": "code",
   "execution_count": 41,
   "id": "b54c2cd0",
   "metadata": {},
   "outputs": [
    {
     "data": {
      "image/png": "[encoded data removed]",
      "text/plain": [
       "<Figure size 194.4x360 with 1 Axes>"
      ]
     },
     "metadata": {
      "needs_background": "light"
     },
     "output_type": "display_data"
    }
   ],
   "source": [
    "y_pred_mu_GAS = predict_GAS(X, model=model, x_scaler=x_scaler_12, y_scaler_11=y_scaler_11)[0]\n",
    "y_pred_std_GAS = predict_GAS(X, model=model, x_scaler=x_scaler_12, y_scaler_11=y_scaler_11)[1]\n",
    "\n",
    "y_pred_mu_GAS_scaled = scale_output(y_pred_mu_GAS, y_pred_std_GAS, y_scaler_11=y_scaler_11, n=10)[0]\n",
    "y_pred_std_GAS_scaled = scale_output(y_pred_mu_GAS, y_pred_std_GAS, y_scaler_11=y_scaler_11, n=10)[1]\n",
    "\n",
    "plot_calculated_output(y_scaled_11, y_pred_mu_GAS_scaled, y_pred_std_GAS_scaled, 10)"
   ]
  },
  {
   "cell_type": "markdown",
   "id": "7cc468f3",
   "metadata": {},
   "source": [
    "#### calculation of CGE predictions"
   ]
  },
  {
   "cell_type": "code",
   "execution_count": 79,
   "id": "55d52b39",
   "metadata": {},
   "outputs": [
    {
     "data": {
      "text/plain": [
       "'CGE (%)'"
      ]
     },
     "execution_count": 79,
     "metadata": {},
     "output_type": "execute_result"
    }
   ],
   "source": [
    "TARGETS_GASIF_11.columns[8]"
   ]
  },
  {
   "cell_type": "code",
   "execution_count": 80,
   "id": "6330c30c",
   "metadata": {},
   "outputs": [],
   "source": [
    "def predict_CGE(X, model=model, x_scaler=x_scaler_12, y_scaler_11=y_scaler_11, \n",
    "                HHVbiom=FEATURES_GASIF_12['HHVbiom (MJ/kg)']):\n",
    "    X_scaled = x_scaler.transform(X)\n",
    "    y_pred_mu_CO = predict_coregionalized(model, X_scaled, 0)[0]*sqrt(y_scaler_11.var_[1]) + y_scaler_11.mean_[1]\n",
    "    y_pred_std_CO = predict_coregionalized(model, X_scaled, 0)[1]*sqrt(y_scaler_11.var_[1])\n",
    "    y_pred_mu_H2 = predict_coregionalized(model, X_scaled, 1)[0]*sqrt(y_scaler_11.var_[3]) + y_scaler_11.mean_[3]\n",
    "    y_pred_std_H2 = predict_coregionalized(model, X_scaled, 1)[1]*sqrt(y_scaler_11.var_[3])\n",
    "    y_pred_mu_COMB = predict_coregionalized(model, X_scaled, 2)[0]*sqrt(y_scaler_11.var_[4]) + y_scaler_11.mean_[4]\n",
    "    y_pred_std_COMB = predict_coregionalized(model, X_scaled, 2)[1]*sqrt(y_scaler_11.var_[4])\n",
    "    y_pred_mu_Edens = predict_coregionalized(model, X_scaled, 3)[0]*sqrt(y_scaler_11.var_[9]) + y_scaler_11.mean_[9]\n",
    "    y_pred_std_Edens = predict_coregionalized(model, X_scaled, 3)[1]*sqrt(y_scaler_11.var_[9])\n",
    "    y_pred_mu_CH4 = y_pred_mu_COMB - y_pred_mu_CO - y_pred_mu_H2\n",
    "    y_pred_std_CH4 = additive_errorprop([y_pred_std_COMB, y_pred_std_CO, y_pred_std_H2])\n",
    "    y_pred_mu_HHV = (11.76*y_pred_mu_CO + 11.882*y_pred_mu_H2 + 37.024*y_pred_mu_CH4)/100\n",
    "    y_pred_std_HHV = additive_errorprop([11.76/100*y_pred_std_CO, 11.882/100*y_pred_std_H2, 37.024/100*y_pred_std_CH4])\n",
    "    y_pred_mu_GAS = y_pred_mu_Edens / y_pred_mu_HHV\n",
    "    y_pred_std_GAS = additive_errorprop([y_pred_std_Edens/y_pred_mu_Edens,\n",
    "                                         y_pred_std_HHV/y_pred_mu_HHV])*y_pred_mu_GAS\n",
    "    \n",
    "    y_pred_mu_CGE = y_pred_mu_GAS * y_pred_mu_HHV / np.reshape(HHVbiom.values, (-1,1))*100\n",
    "    y_pred_std_CGE = additive_errorprop([y_pred_std_GAS/y_pred_mu_GAS, \n",
    "                                         y_pred_std_HHV/y_pred_mu_HHV]) * y_pred_mu_GAS * y_pred_mu_HHV / np.reshape(\n",
    "        HHVbiom.values, (-1,1))*100\n",
    "    \n",
    "    return y_pred_mu_CGE, y_pred_std_CGE"
   ]
  },
  {
   "cell_type": "code",
   "execution_count": 42,
   "id": "91ac65ed",
   "metadata": {},
   "outputs": [
    {
     "data": {
      "image/png": "[encoded data removed]",
      "text/plain": [
       "<Figure size 194.4x360 with 1 Axes>"
      ]
     },
     "metadata": {
      "needs_background": "light"
     },
     "output_type": "display_data"
    }
   ],
   "source": [
    "y_pred_mu_CGE = predict_CGE(X, model=model, x_scaler=x_scaler_12, y_scaler_11=y_scaler_11,\n",
    "                            HHVbiom=FEATURES_GASIF_12['HHVbiom (MJ/kg)'])[0]\n",
    "y_pred_std_CGE = predict_CGE(X, model=model, x_scaler=x_scaler_12, y_scaler_11=y_scaler_11,\n",
    "                             HHVbiom=FEATURES_GASIF_12['HHVbiom (MJ/kg)'])[1]\n",
    "\n",
    "y_pred_mu_CGE_scaled = scale_output(y_pred_mu_CGE, y_pred_std_CGE, y_scaler_11=y_scaler_11, n=8)[0]\n",
    "y_pred_std_CGE_scaled = scale_output(y_pred_mu_CGE, y_pred_std_CGE, y_scaler_11=y_scaler_11, n=8)[1]\n",
    "\n",
    "plot_calculated_output(y_scaled_11, y_pred_mu_CGE_scaled, y_pred_std_CGE_scaled, 8)"
   ]
  },
  {
   "cell_type": "code",
   "execution_count": null,
   "id": "144f5f4a",
   "metadata": {},
   "outputs": [],
   "source": []
  },
  {
   "cell_type": "code",
   "execution_count": null,
   "id": "eb96efa3",
   "metadata": {},
   "outputs": [],
   "source": []
  },
  {
   "cell_type": "code",
   "execution_count": null,
   "id": "f4efdafe",
   "metadata": {},
   "outputs": [],
   "source": []
  }
 ],
 "metadata": {
  "kernelspec": {
   "display_name": "Python [conda env:biomassgp]",
   "language": "python",
   "name": "conda-env-biomassgp-py"
  },
  "language_info": {
   "codemirror_mode": {
    "name": "ipython",
    "version": 3
   },
   "file_extension": ".py",
   "mimetype": "text/x-python",
   "name": "python",
   "nbconvert_exporter": "python",
   "pygments_lexer": "ipython3",
   "version": "3.9.11"
  }
 },
 "nbformat": 4,
 "nbformat_minor": 5
}
